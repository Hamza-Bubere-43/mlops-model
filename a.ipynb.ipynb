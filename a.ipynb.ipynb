{
  "nbformat": 4,
  "nbformat_minor": 0,
  "metadata": {
    "colab": {
      "provenance": []
    },
    "kernelspec": {
      "name": "python3",
      "display_name": "Python 3"
    },
    "language_info": {
      "name": "python"
    }
  },
  "cells": [
    {
      "cell_type": "code",
      "source": [
        "from pyspark.sql import SparkSession\n",
        "from pyspark.ml.feature import VectorAssembler\n",
        "from pyspark.ml.regression import LinearRegression\n",
        "spark = SparkSession.builder.appName('Missing').getOrCreate()\n",
        "training = spark.read.csv('file.csv', header=True , inferSchema=True)\n",
        "training.show()\n",
        "training.columns"
      ],
      "metadata": {
        "colab": {
          "base_uri": "https://localhost:8080/"
        },
        "id": "SDM9B2y--Y5D",
        "outputId": "100fcf23-6712-4b33-c0a1-b39b8a09adf2"
      },
      "execution_count": null,
      "outputs": [
        {
          "output_type": "stream",
          "name": "stdout",
          "text": [
            "+--------+---+----------+------+\n",
            "|    Name|Age|Experience|Salary|\n",
            "+--------+---+----------+------+\n",
            "|dashrath| 32|        10| 30000|\n",
            "| Sourabh| 24|         9| 25000|\n",
            "|  Deepak| 33|         7| 15000|\n",
            "|    Neha| 23|         6| 16000|\n",
            "|  Rohini| 27|        11| 50000|\n",
            "|  Sarika| 31|        12| 60000|\n",
            "|  Ganesh| 32|        12| 70000|\n",
            "+--------+---+----------+------+\n",
            "\n"
          ]
        },
        {
          "output_type": "execute_result",
          "data": {
            "text/plain": [
              "['Name', 'Age', 'Experience', 'Salary']"
            ]
          },
          "metadata": {},
          "execution_count": 19
        }
      ]
    },
    {
      "cell_type": "code",
      "source": [
        "# Create a new column outputCol:\"Independant Feature\" with inputCol:\" Age, Experience\"\n",
        "feature=VectorAssembler(inputCols=['Age','Experience'], outputCol=\"Independant feature\")\n",
        "output=feature.transform(training)\n",
        "output.show()"
      ],
      "metadata": {
        "id": "YWJpwpvE--M8",
        "colab": {
          "base_uri": "https://localhost:8080/"
        },
        "outputId": "9f947b0f-9095-4506-d148-8165d4388db1"
      },
      "execution_count": null,
      "outputs": [
        {
          "output_type": "stream",
          "name": "stdout",
          "text": [
            "+--------+---+----------+------+-------------------+\n",
            "|    Name|Age|Experience|Salary|Independant feature|\n",
            "+--------+---+----------+------+-------------------+\n",
            "|dashrath| 32|        10| 30000|        [32.0,10.0]|\n",
            "| Sourabh| 24|         9| 25000|         [24.0,9.0]|\n",
            "|  Deepak| 33|         7| 15000|         [33.0,7.0]|\n",
            "|    Neha| 23|         6| 16000|         [23.0,6.0]|\n",
            "|  Rohini| 27|        11| 50000|        [27.0,11.0]|\n",
            "|  Sarika| 31|        12| 60000|        [31.0,12.0]|\n",
            "|  Ganesh| 32|        12| 70000|        [32.0,12.0]|\n",
            "+--------+---+----------+------+-------------------+\n",
            "\n"
          ]
        }
      ]
    },
    {
      "cell_type": "code",
      "source": [
        "finaldata=output.select(\"Independant feature\",\"Salary\")\n",
        "finaldata.show()"
      ],
      "metadata": {
        "id": "zjQh5gOX_BC8",
        "colab": {
          "base_uri": "https://localhost:8080/"
        },
        "outputId": "0998ec3e-3283-4cfa-81f9-1d3d868346af"
      },
      "execution_count": null,
      "outputs": [
        {
          "output_type": "stream",
          "name": "stdout",
          "text": [
            "+-------------------+------+\n",
            "|Independant feature|Salary|\n",
            "+-------------------+------+\n",
            "|        [32.0,10.0]| 30000|\n",
            "|         [24.0,9.0]| 25000|\n",
            "|         [33.0,7.0]| 15000|\n",
            "|         [23.0,6.0]| 16000|\n",
            "|        [27.0,11.0]| 50000|\n",
            "|        [31.0,12.0]| 60000|\n",
            "|        [32.0,12.0]| 70000|\n",
            "+-------------------+------+\n",
            "\n"
          ]
        }
      ]
    },
    {
      "cell_type": "code",
      "source": [
        "#Train 75% and Test 25% data\n",
        "train_data,test_data=finaldata.randomSplit([0.75,0.25])\n",
        "reg=LinearRegression(featuresCol='Independant feature',labelCol='Salary')\n",
        "#Fit the data\n",
        "reg=reg.fit(train_data)\n",
        "#Display the coefficients\n",
        "reg.coefficients"
      ],
      "metadata": {
        "id": "onlh0zff_J8k",
        "colab": {
          "base_uri": "https://localhost:8080/"
        },
        "outputId": "7224a468-0494-4dc9-8099-19cd8df97bca"
      },
      "execution_count": null,
      "outputs": [
        {
          "output_type": "execute_result",
          "data": {
            "text/plain": [
              "DenseVector([17.2973, 7607.9279])"
            ]
          },
          "metadata": {},
          "execution_count": 22
        }
      ]
    },
    {
      "cell_type": "code",
      "source": [
        "#Predict and evaluate\n",
        "Pred_result=reg.evaluate(test_data)\n",
        "#Predict the results and show\n",
        "Pred_result.predictions.show()\n",
        "print(\"(MeanAbsoluteError: \",Pred_result.meanAbsoluteError, \", MeanSquaredError: \",Pred_result.meanSquaredError,\")\")"
      ],
      "metadata": {
        "colab": {
          "base_uri": "https://localhost:8080/"
        },
        "id": "JRyLxKsv4onP",
        "outputId": "ea24470e-f692-46f2-9ce9-7258345f0553"
      },
      "execution_count": null,
      "outputs": [
        {
          "output_type": "stream",
          "name": "stdout",
          "text": [
            "+-------------------+------+------------------+\n",
            "|Independant feature|Salary|        prediction|\n",
            "+-------------------+------+------------------+\n",
            "|        [27.0,11.0]| 50000| 48006.84684684687|\n",
            "|        [32.0,10.0]| 30000| 40485.40540540542|\n",
            "|        [32.0,12.0]| 70000|55701.261261261294|\n",
            "+-------------------+------+------------------+\n",
            "\n",
            "(MeanAbsoluteError:  8925.765765765753 , MeanSquaredError:  106123438.50877883 )\n"
          ]
        }
      ]
    }
  ]
}